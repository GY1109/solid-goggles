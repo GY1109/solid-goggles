{
  "nbformat": 4,
  "nbformat_minor": 0,
  "metadata": {
    "colab": {
      "provenance": [],
      "gpuType": "T4"
    },
    "kernelspec": {
      "name": "python3",
      "display_name": "Python 3"
    },
    "language_info": {
      "name": "python"
    },
    "accelerator": "GPU"
  },
  "cells": [
    {
      "cell_type": "code",
      "source": [
        "# 上传数据集\n",
        "from google.colab import files\n",
        "\n",
        "uploaded = files.upload()\n",
        "\n",
        "# 将上传的文件保存在虚拟机上\n",
        "with open(\"breast_cancer.csv\", 'wb') as f:\n",
        "    f.write(uploaded[list(uploaded.keys())[0]])"
      ],
      "metadata": {
        "colab": {
          "base_uri": "https://localhost:8080/",
          "height": 109
        },
        "id": "cJ4ECGnEaxzj",
        "outputId": "c098cd72-cebb-46ad-a764-bdf56aa02f4e"
      },
      "execution_count": null,
      "outputs": [
        {
          "output_type": "display_data",
          "data": {
            "text/plain": [
              "<IPython.core.display.HTML object>"
            ],
            "text/html": [
              "\n",
              "     <input type=\"file\" id=\"files-9974efd1-40c8-42eb-8c22-e1b77ae5f3b2\" name=\"files[]\" multiple disabled\n",
              "        style=\"border:none\" />\n",
              "     <output id=\"result-9974efd1-40c8-42eb-8c22-e1b77ae5f3b2\">\n",
              "      Upload widget is only available when the cell has been executed in the\n",
              "      current browser session. Please rerun this cell to enable.\n",
              "      </output>\n",
              "      <script>// Copyright 2017 Google LLC\n",
              "//\n",
              "// Licensed under the Apache License, Version 2.0 (the \"License\");\n",
              "// you may not use this file except in compliance with the License.\n",
              "// You may obtain a copy of the License at\n",
              "//\n",
              "//      http://www.apache.org/licenses/LICENSE-2.0\n",
              "//\n",
              "// Unless required by applicable law or agreed to in writing, software\n",
              "// distributed under the License is distributed on an \"AS IS\" BASIS,\n",
              "// WITHOUT WARRANTIES OR CONDITIONS OF ANY KIND, either express or implied.\n",
              "// See the License for the specific language governing permissions and\n",
              "// limitations under the License.\n",
              "\n",
              "/**\n",
              " * @fileoverview Helpers for google.colab Python module.\n",
              " */\n",
              "(function(scope) {\n",
              "function span(text, styleAttributes = {}) {\n",
              "  const element = document.createElement('span');\n",
              "  element.textContent = text;\n",
              "  for (const key of Object.keys(styleAttributes)) {\n",
              "    element.style[key] = styleAttributes[key];\n",
              "  }\n",
              "  return element;\n",
              "}\n",
              "\n",
              "// Max number of bytes which will be uploaded at a time.\n",
              "const MAX_PAYLOAD_SIZE = 100 * 1024;\n",
              "\n",
              "function _uploadFiles(inputId, outputId) {\n",
              "  const steps = uploadFilesStep(inputId, outputId);\n",
              "  const outputElement = document.getElementById(outputId);\n",
              "  // Cache steps on the outputElement to make it available for the next call\n",
              "  // to uploadFilesContinue from Python.\n",
              "  outputElement.steps = steps;\n",
              "\n",
              "  return _uploadFilesContinue(outputId);\n",
              "}\n",
              "\n",
              "// This is roughly an async generator (not supported in the browser yet),\n",
              "// where there are multiple asynchronous steps and the Python side is going\n",
              "// to poll for completion of each step.\n",
              "// This uses a Promise to block the python side on completion of each step,\n",
              "// then passes the result of the previous step as the input to the next step.\n",
              "function _uploadFilesContinue(outputId) {\n",
              "  const outputElement = document.getElementById(outputId);\n",
              "  const steps = outputElement.steps;\n",
              "\n",
              "  const next = steps.next(outputElement.lastPromiseValue);\n",
              "  return Promise.resolve(next.value.promise).then((value) => {\n",
              "    // Cache the last promise value to make it available to the next\n",
              "    // step of the generator.\n",
              "    outputElement.lastPromiseValue = value;\n",
              "    return next.value.response;\n",
              "  });\n",
              "}\n",
              "\n",
              "/**\n",
              " * Generator function which is called between each async step of the upload\n",
              " * process.\n",
              " * @param {string} inputId Element ID of the input file picker element.\n",
              " * @param {string} outputId Element ID of the output display.\n",
              " * @return {!Iterable<!Object>} Iterable of next steps.\n",
              " */\n",
              "function* uploadFilesStep(inputId, outputId) {\n",
              "  const inputElement = document.getElementById(inputId);\n",
              "  inputElement.disabled = false;\n",
              "\n",
              "  const outputElement = document.getElementById(outputId);\n",
              "  outputElement.innerHTML = '';\n",
              "\n",
              "  const pickedPromise = new Promise((resolve) => {\n",
              "    inputElement.addEventListener('change', (e) => {\n",
              "      resolve(e.target.files);\n",
              "    });\n",
              "  });\n",
              "\n",
              "  const cancel = document.createElement('button');\n",
              "  inputElement.parentElement.appendChild(cancel);\n",
              "  cancel.textContent = 'Cancel upload';\n",
              "  const cancelPromise = new Promise((resolve) => {\n",
              "    cancel.onclick = () => {\n",
              "      resolve(null);\n",
              "    };\n",
              "  });\n",
              "\n",
              "  // Wait for the user to pick the files.\n",
              "  const files = yield {\n",
              "    promise: Promise.race([pickedPromise, cancelPromise]),\n",
              "    response: {\n",
              "      action: 'starting',\n",
              "    }\n",
              "  };\n",
              "\n",
              "  cancel.remove();\n",
              "\n",
              "  // Disable the input element since further picks are not allowed.\n",
              "  inputElement.disabled = true;\n",
              "\n",
              "  if (!files) {\n",
              "    return {\n",
              "      response: {\n",
              "        action: 'complete',\n",
              "      }\n",
              "    };\n",
              "  }\n",
              "\n",
              "  for (const file of files) {\n",
              "    const li = document.createElement('li');\n",
              "    li.append(span(file.name, {fontWeight: 'bold'}));\n",
              "    li.append(span(\n",
              "        `(${file.type || 'n/a'}) - ${file.size} bytes, ` +\n",
              "        `last modified: ${\n",
              "            file.lastModifiedDate ? file.lastModifiedDate.toLocaleDateString() :\n",
              "                                    'n/a'} - `));\n",
              "    const percent = span('0% done');\n",
              "    li.appendChild(percent);\n",
              "\n",
              "    outputElement.appendChild(li);\n",
              "\n",
              "    const fileDataPromise = new Promise((resolve) => {\n",
              "      const reader = new FileReader();\n",
              "      reader.onload = (e) => {\n",
              "        resolve(e.target.result);\n",
              "      };\n",
              "      reader.readAsArrayBuffer(file);\n",
              "    });\n",
              "    // Wait for the data to be ready.\n",
              "    let fileData = yield {\n",
              "      promise: fileDataPromise,\n",
              "      response: {\n",
              "        action: 'continue',\n",
              "      }\n",
              "    };\n",
              "\n",
              "    // Use a chunked sending to avoid message size limits. See b/62115660.\n",
              "    let position = 0;\n",
              "    do {\n",
              "      const length = Math.min(fileData.byteLength - position, MAX_PAYLOAD_SIZE);\n",
              "      const chunk = new Uint8Array(fileData, position, length);\n",
              "      position += length;\n",
              "\n",
              "      const base64 = btoa(String.fromCharCode.apply(null, chunk));\n",
              "      yield {\n",
              "        response: {\n",
              "          action: 'append',\n",
              "          file: file.name,\n",
              "          data: base64,\n",
              "        },\n",
              "      };\n",
              "\n",
              "      let percentDone = fileData.byteLength === 0 ?\n",
              "          100 :\n",
              "          Math.round((position / fileData.byteLength) * 100);\n",
              "      percent.textContent = `${percentDone}% done`;\n",
              "\n",
              "    } while (position < fileData.byteLength);\n",
              "  }\n",
              "\n",
              "  // All done.\n",
              "  yield {\n",
              "    response: {\n",
              "      action: 'complete',\n",
              "    }\n",
              "  };\n",
              "}\n",
              "\n",
              "scope.google = scope.google || {};\n",
              "scope.google.colab = scope.google.colab || {};\n",
              "scope.google.colab._files = {\n",
              "  _uploadFiles,\n",
              "  _uploadFilesContinue,\n",
              "};\n",
              "})(self);\n",
              "</script> "
            ]
          },
          "metadata": {}
        },
        {
          "output_type": "stream",
          "name": "stdout",
          "text": [
            "Saving wdbc.data to wdbc.data\n",
            "Saving wdbc.names to wdbc.names\n"
          ]
        }
      ]
    },
    {
      "cell_type": "code",
      "source": [
        "# 导入必要的库\n",
        "import numpy as np\n",
        "import pandas as pd\n",
        "from sklearn.preprocessing import LabelEncoder\n",
        "from sklearn.model_selection import train_test_split\n",
        "import keras\n",
        "from keras.models import Sequential\n",
        "from keras.layers import Dense\n",
        "from sklearn.metrics import confusion_matrix"
      ],
      "metadata": {
        "id": "zV7OLvMea5ej"
      },
      "execution_count": null,
      "outputs": []
    },
    {
      "cell_type": "code",
      "source": [
        "# 导入数据集\n",
        "dataset = pd.read_csv('breast_cancer.csv')"
      ],
      "metadata": {
        "id": "D54NmZG-a-XB"
      },
      "execution_count": null,
      "outputs": []
    },
    {
      "cell_type": "code",
      "source": [
        "# 分割因变量和自变量\n",
        "X = dataset.iloc[:, 2:32].values\n",
        "y = dataset.iloc[:, 1].values"
      ],
      "metadata": {
        "id": "EjfTYelLBRJ3"
      },
      "execution_count": null,
      "outputs": []
    },
    {
      "cell_type": "code",
      "source": [
        "# 编码因变量\n",
        "labelencoder = LabelEncoder()\n",
        "y = labelencoder.fit_transform(y)"
      ],
      "metadata": {
        "id": "ixXNrRqnBVq9"
      },
      "execution_count": null,
      "outputs": []
    },
    {
      "cell_type": "code",
      "source": [
        "# 分割数据集\n",
        "X_train, X_test, y_train, y_test = train_test_split(X, y, test_size=0.2, random_state=42)\n"
      ],
      "metadata": {
        "id": "y8wdno8lBWln"
      },
      "execution_count": null,
      "outputs": []
    },
    {
      "cell_type": "code",
      "source": [
        "# 初始化神经网络\n",
        "classifier = Sequential()"
      ],
      "metadata": {
        "id": "C9MsloY6BeE9"
      },
      "execution_count": null,
      "outputs": []
    },
    {
      "cell_type": "code",
      "source": [
        "# 添加输入层和第一个隐藏层\n",
        "classifier.add(Dense(units=16, kernel_initializer='uniform', activation='relu', input_dim=30))\n"
      ],
      "metadata": {
        "id": "shXJU6_qBfkd"
      },
      "execution_count": null,
      "outputs": []
    },
    {
      "cell_type": "code",
      "source": [
        "# 添加第二个隐藏层\n",
        "classifier.add(Dense(units=16, kernel_initializer='uniform', activation='relu'))\n",
        "\n",
        "# 添加输出层\n",
        "classifier.add(Dense(units=1, kernel_initializer='uniform', activation='sigmoid'))\n"
      ],
      "metadata": {
        "id": "rZF4ied1Bi6e"
      },
      "execution_count": null,
      "outputs": []
    },
    {
      "cell_type": "code",
      "source": [
        "# 编译神经网络\n",
        "classifier.compile(optimizer='adam', loss='binary_crossentropy', metrics=['accuracy'])\n"
      ],
      "metadata": {
        "id": "f1StMSZBBrJf"
      },
      "execution_count": null,
      "outputs": []
    },
    {
      "cell_type": "code",
      "source": [
        "# 训练神经网络\n",
        "classifier.fit(X_train, y_train, batch_size=10, epochs=100)\n"
      ],
      "metadata": {
        "colab": {
          "base_uri": "https://localhost:8080/"
        },
        "id": "PdvwJShZBuDo",
        "outputId": "f5daf1f2-5d77-4dd7-a365-2427a82bcd21"
      },
      "execution_count": null,
      "outputs": [
        {
          "output_type": "stream",
          "name": "stdout",
          "text": [
            "Epoch 1/100\n",
            "46/46 [==============================] - 6s 3ms/step - loss: 0.6815 - accuracy: 0.6454\n",
            "Epoch 2/100\n",
            "46/46 [==============================] - 0s 3ms/step - loss: 0.5735 - accuracy: 0.8194\n",
            "Epoch 3/100\n",
            "46/46 [==============================] - 0s 3ms/step - loss: 0.3812 - accuracy: 0.8877\n",
            "Epoch 4/100\n",
            "46/46 [==============================] - 0s 3ms/step - loss: 0.3267 - accuracy: 0.8590\n",
            "Epoch 5/100\n",
            "46/46 [==============================] - 0s 4ms/step - loss: 0.2767 - accuracy: 0.8965\n",
            "Epoch 6/100\n",
            "46/46 [==============================] - 0s 3ms/step - loss: 0.2488 - accuracy: 0.9053\n",
            "Epoch 7/100\n",
            "46/46 [==============================] - 0s 3ms/step - loss: 0.2475 - accuracy: 0.9031\n",
            "Epoch 8/100\n",
            "46/46 [==============================] - 0s 3ms/step - loss: 0.2553 - accuracy: 0.8943\n",
            "Epoch 9/100\n",
            "46/46 [==============================] - 0s 6ms/step - loss: 0.2313 - accuracy: 0.9141\n",
            "Epoch 10/100\n",
            "46/46 [==============================] - 0s 5ms/step - loss: 0.2198 - accuracy: 0.9163\n",
            "Epoch 11/100\n",
            "46/46 [==============================] - 0s 5ms/step - loss: 0.2230 - accuracy: 0.9075\n",
            "Epoch 12/100\n",
            "46/46 [==============================] - 0s 5ms/step - loss: 0.2175 - accuracy: 0.9141\n",
            "Epoch 13/100\n",
            "46/46 [==============================] - 0s 4ms/step - loss: 0.2112 - accuracy: 0.9185\n",
            "Epoch 14/100\n",
            "46/46 [==============================] - 0s 5ms/step - loss: 0.2017 - accuracy: 0.9141\n",
            "Epoch 15/100\n",
            "46/46 [==============================] - 0s 5ms/step - loss: 0.2108 - accuracy: 0.9163\n",
            "Epoch 16/100\n",
            "46/46 [==============================] - 0s 5ms/step - loss: 0.2130 - accuracy: 0.9097\n",
            "Epoch 17/100\n",
            "46/46 [==============================] - 0s 5ms/step - loss: 0.2149 - accuracy: 0.9141\n",
            "Epoch 18/100\n",
            "46/46 [==============================] - 0s 5ms/step - loss: 0.2051 - accuracy: 0.9163\n",
            "Epoch 19/100\n",
            "46/46 [==============================] - 0s 4ms/step - loss: 0.1879 - accuracy: 0.9229\n",
            "Epoch 20/100\n",
            "46/46 [==============================] - 0s 3ms/step - loss: 0.2141 - accuracy: 0.9119\n",
            "Epoch 21/100\n",
            "46/46 [==============================] - 0s 3ms/step - loss: 0.1882 - accuracy: 0.9163\n",
            "Epoch 22/100\n",
            "46/46 [==============================] - 0s 3ms/step - loss: 0.2146 - accuracy: 0.9141\n",
            "Epoch 23/100\n",
            "46/46 [==============================] - 0s 3ms/step - loss: 0.1977 - accuracy: 0.9207\n",
            "Epoch 24/100\n",
            "46/46 [==============================] - 0s 3ms/step - loss: 0.1925 - accuracy: 0.9251\n",
            "Epoch 25/100\n",
            "46/46 [==============================] - 0s 3ms/step - loss: 0.1988 - accuracy: 0.9163\n",
            "Epoch 26/100\n",
            "46/46 [==============================] - 0s 3ms/step - loss: 0.1841 - accuracy: 0.9273\n",
            "Epoch 27/100\n",
            "46/46 [==============================] - 0s 3ms/step - loss: 0.2123 - accuracy: 0.9031\n",
            "Epoch 28/100\n",
            "46/46 [==============================] - 0s 3ms/step - loss: 0.1857 - accuracy: 0.9251\n",
            "Epoch 29/100\n",
            "46/46 [==============================] - 0s 3ms/step - loss: 0.1966 - accuracy: 0.9251\n",
            "Epoch 30/100\n",
            "46/46 [==============================] - 0s 3ms/step - loss: 0.1926 - accuracy: 0.9251\n",
            "Epoch 31/100\n",
            "46/46 [==============================] - 0s 4ms/step - loss: 0.1920 - accuracy: 0.9207\n",
            "Epoch 32/100\n",
            "46/46 [==============================] - 0s 3ms/step - loss: 0.1692 - accuracy: 0.9361\n",
            "Epoch 33/100\n",
            "46/46 [==============================] - 0s 3ms/step - loss: 0.1698 - accuracy: 0.9339\n",
            "Epoch 34/100\n",
            "46/46 [==============================] - 0s 3ms/step - loss: 0.1723 - accuracy: 0.9229\n",
            "Epoch 35/100\n",
            "46/46 [==============================] - 0s 3ms/step - loss: 0.1653 - accuracy: 0.9295\n",
            "Epoch 36/100\n",
            "46/46 [==============================] - 0s 3ms/step - loss: 0.1890 - accuracy: 0.9229\n",
            "Epoch 37/100\n",
            "46/46 [==============================] - 0s 3ms/step - loss: 0.1710 - accuracy: 0.9251\n",
            "Epoch 38/100\n",
            "46/46 [==============================] - 0s 3ms/step - loss: 0.1997 - accuracy: 0.9163\n",
            "Epoch 39/100\n",
            "46/46 [==============================] - 0s 3ms/step - loss: 0.1697 - accuracy: 0.9383\n",
            "Epoch 40/100\n",
            "46/46 [==============================] - 0s 4ms/step - loss: 0.1618 - accuracy: 0.9317\n",
            "Epoch 41/100\n",
            "46/46 [==============================] - 0s 3ms/step - loss: 0.1642 - accuracy: 0.9295\n",
            "Epoch 42/100\n",
            "46/46 [==============================] - 0s 3ms/step - loss: 0.2029 - accuracy: 0.9251\n",
            "Epoch 43/100\n",
            "46/46 [==============================] - 0s 3ms/step - loss: 0.1625 - accuracy: 0.9251\n",
            "Epoch 44/100\n",
            "46/46 [==============================] - 0s 3ms/step - loss: 0.1901 - accuracy: 0.9295\n",
            "Epoch 45/100\n",
            "46/46 [==============================] - 0s 3ms/step - loss: 0.1654 - accuracy: 0.9295\n",
            "Epoch 46/100\n",
            "46/46 [==============================] - 0s 3ms/step - loss: 0.1573 - accuracy: 0.9207\n",
            "Epoch 47/100\n",
            "46/46 [==============================] - 0s 3ms/step - loss: 0.1654 - accuracy: 0.9317\n",
            "Epoch 48/100\n",
            "46/46 [==============================] - 0s 3ms/step - loss: 0.1950 - accuracy: 0.9295\n",
            "Epoch 49/100\n",
            "46/46 [==============================] - 0s 4ms/step - loss: 0.1720 - accuracy: 0.9295\n",
            "Epoch 50/100\n",
            "46/46 [==============================] - 0s 4ms/step - loss: 0.1769 - accuracy: 0.9251\n",
            "Epoch 51/100\n",
            "46/46 [==============================] - 0s 3ms/step - loss: 0.1560 - accuracy: 0.9427\n",
            "Epoch 52/100\n",
            "46/46 [==============================] - 0s 3ms/step - loss: 0.1949 - accuracy: 0.9141\n",
            "Epoch 53/100\n",
            "46/46 [==============================] - 0s 3ms/step - loss: 0.1516 - accuracy: 0.9339\n",
            "Epoch 54/100\n",
            "46/46 [==============================] - 0s 3ms/step - loss: 0.1807 - accuracy: 0.9317\n",
            "Epoch 55/100\n",
            "46/46 [==============================] - 0s 3ms/step - loss: 0.1803 - accuracy: 0.9229\n",
            "Epoch 56/100\n",
            "46/46 [==============================] - 0s 4ms/step - loss: 0.1601 - accuracy: 0.9295\n",
            "Epoch 57/100\n",
            "46/46 [==============================] - 0s 3ms/step - loss: 0.1476 - accuracy: 0.9383\n",
            "Epoch 58/100\n",
            "46/46 [==============================] - 0s 3ms/step - loss: 0.1571 - accuracy: 0.9317\n",
            "Epoch 59/100\n",
            "46/46 [==============================] - 0s 3ms/step - loss: 0.1507 - accuracy: 0.9405\n",
            "Epoch 60/100\n",
            "46/46 [==============================] - 0s 3ms/step - loss: 0.1691 - accuracy: 0.9295\n",
            "Epoch 61/100\n",
            "46/46 [==============================] - 0s 3ms/step - loss: 0.1642 - accuracy: 0.9251\n",
            "Epoch 62/100\n",
            "46/46 [==============================] - 0s 3ms/step - loss: 0.1441 - accuracy: 0.9383\n",
            "Epoch 63/100\n",
            "46/46 [==============================] - 0s 3ms/step - loss: 0.1501 - accuracy: 0.9361\n",
            "Epoch 64/100\n",
            "46/46 [==============================] - 0s 3ms/step - loss: 0.1448 - accuracy: 0.9427\n",
            "Epoch 65/100\n",
            "46/46 [==============================] - 0s 3ms/step - loss: 0.1534 - accuracy: 0.9273\n",
            "Epoch 66/100\n",
            "46/46 [==============================] - 0s 3ms/step - loss: 0.1586 - accuracy: 0.9383\n",
            "Epoch 67/100\n",
            "46/46 [==============================] - 0s 3ms/step - loss: 0.1559 - accuracy: 0.9339\n",
            "Epoch 68/100\n",
            "46/46 [==============================] - 0s 3ms/step - loss: 0.1537 - accuracy: 0.9449\n",
            "Epoch 69/100\n",
            "46/46 [==============================] - 0s 3ms/step - loss: 0.1364 - accuracy: 0.9405\n",
            "Epoch 70/100\n",
            "46/46 [==============================] - 0s 3ms/step - loss: 0.1509 - accuracy: 0.9471\n",
            "Epoch 71/100\n",
            "46/46 [==============================] - 0s 4ms/step - loss: 0.1470 - accuracy: 0.9427\n",
            "Epoch 72/100\n",
            "46/46 [==============================] - 0s 3ms/step - loss: 0.1413 - accuracy: 0.9405\n",
            "Epoch 73/100\n",
            "46/46 [==============================] - 0s 3ms/step - loss: 0.1401 - accuracy: 0.9317\n",
            "Epoch 74/100\n",
            "46/46 [==============================] - 0s 3ms/step - loss: 0.1340 - accuracy: 0.9449\n",
            "Epoch 75/100\n",
            "46/46 [==============================] - 0s 3ms/step - loss: 0.1575 - accuracy: 0.9251\n",
            "Epoch 76/100\n",
            "46/46 [==============================] - 0s 3ms/step - loss: 0.1406 - accuracy: 0.9405\n",
            "Epoch 77/100\n",
            "46/46 [==============================] - 0s 3ms/step - loss: 0.1701 - accuracy: 0.9097\n",
            "Epoch 78/100\n",
            "46/46 [==============================] - 0s 3ms/step - loss: 0.1431 - accuracy: 0.9339\n",
            "Epoch 79/100\n",
            "46/46 [==============================] - 0s 3ms/step - loss: 0.1431 - accuracy: 0.9383\n",
            "Epoch 80/100\n",
            "46/46 [==============================] - 0s 3ms/step - loss: 0.1313 - accuracy: 0.9361\n",
            "Epoch 81/100\n",
            "46/46 [==============================] - 0s 3ms/step - loss: 0.1282 - accuracy: 0.9405\n",
            "Epoch 82/100\n",
            "46/46 [==============================] - 0s 5ms/step - loss: 0.1292 - accuracy: 0.9449\n",
            "Epoch 83/100\n",
            "46/46 [==============================] - 0s 5ms/step - loss: 0.1314 - accuracy: 0.9295\n",
            "Epoch 84/100\n",
            "46/46 [==============================] - 0s 5ms/step - loss: 0.1517 - accuracy: 0.9317\n",
            "Epoch 85/100\n",
            "46/46 [==============================] - 0s 5ms/step - loss: 0.1443 - accuracy: 0.9427\n",
            "Epoch 86/100\n",
            "46/46 [==============================] - 0s 5ms/step - loss: 0.1566 - accuracy: 0.9295\n",
            "Epoch 87/100\n",
            "46/46 [==============================] - 0s 5ms/step - loss: 0.1287 - accuracy: 0.9383\n",
            "Epoch 88/100\n",
            "46/46 [==============================] - 0s 5ms/step - loss: 0.1281 - accuracy: 0.9537\n",
            "Epoch 89/100\n",
            "46/46 [==============================] - 0s 5ms/step - loss: 0.1471 - accuracy: 0.9339\n",
            "Epoch 90/100\n",
            "46/46 [==============================] - 0s 5ms/step - loss: 0.1271 - accuracy: 0.9427\n",
            "Epoch 91/100\n",
            "46/46 [==============================] - 0s 5ms/step - loss: 0.1564 - accuracy: 0.9317\n",
            "Epoch 92/100\n",
            "46/46 [==============================] - 0s 3ms/step - loss: 0.1806 - accuracy: 0.9207\n",
            "Epoch 93/100\n",
            "46/46 [==============================] - 0s 3ms/step - loss: 0.1346 - accuracy: 0.9427\n",
            "Epoch 94/100\n",
            "46/46 [==============================] - 0s 3ms/step - loss: 0.1390 - accuracy: 0.9405\n",
            "Epoch 95/100\n",
            "46/46 [==============================] - 0s 3ms/step - loss: 0.1252 - accuracy: 0.9405\n",
            "Epoch 96/100\n",
            "46/46 [==============================] - 0s 3ms/step - loss: 0.1283 - accuracy: 0.9471\n",
            "Epoch 97/100\n",
            "46/46 [==============================] - 0s 3ms/step - loss: 0.1322 - accuracy: 0.9537\n",
            "Epoch 98/100\n",
            "46/46 [==============================] - 0s 3ms/step - loss: 0.1310 - accuracy: 0.9449\n",
            "Epoch 99/100\n",
            "46/46 [==============================] - 0s 3ms/step - loss: 0.1502 - accuracy: 0.9449\n",
            "Epoch 100/100\n",
            "46/46 [==============================] - 0s 3ms/step - loss: 0.1483 - accuracy: 0.9471\n"
          ]
        },
        {
          "output_type": "execute_result",
          "data": {
            "text/plain": [
              "<keras.src.callbacks.History at 0x7ce16072c940>"
            ]
          },
          "metadata": {},
          "execution_count": 11
        }
      ]
    },
    {
      "cell_type": "code",
      "source": [
        "# 进行预测\n",
        "y_pred = classifier.predict(X_test)\n",
        "y_pred = (y_pred > 0.5)"
      ],
      "metadata": {
        "colab": {
          "base_uri": "https://localhost:8080/"
        },
        "id": "9l3FqsxAB3nI",
        "outputId": "abc27107-5f0b-427e-d457-9487ad75af47"
      },
      "execution_count": null,
      "outputs": [
        {
          "output_type": "stream",
          "name": "stdout",
          "text": [
            "4/4 [==============================] - 0s 4ms/step\n"
          ]
        }
      ]
    },
    {
      "cell_type": "code",
      "source": [
        "# 创建混淆矩阵\n",
        "cm = confusion_matrix(y_test, y_pred)\n",
        "\n",
        "# 输出混淆矩阵\n",
        "print(cm)"
      ],
      "metadata": {
        "id": "6E2kJavVB8FO"
      },
      "execution_count": null,
      "outputs": []
    }
  ]
}